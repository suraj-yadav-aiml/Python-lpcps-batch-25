{
 "cells": [
  {
   "cell_type": "markdown",
   "metadata": {},
   "source": [
    "### **Exercise 1: Check if a Number is Positive**\n",
    "**Problem:**  \n",
    "Write a program that takes a number as input and checks if it is positive. If the number is positive, print \"The number is positive.\"\n",
    "\n",
    "**Example Input:**  \n",
    "`5`\n",
    "\n",
    "**Example Output:**  \n",
    "`The number is positive.`"
   ]
  },
  {
   "cell_type": "markdown",
   "metadata": {},
   "source": [
    "\n",
    "**Solution:**\n",
    "```python\n",
    "num = float(input(\"Enter a number: \"))\n",
    "if num > 0:\n",
    "    print(\"The number is positive.\")\n",
    "```\n"
   ]
  },
  {
   "cell_type": "markdown",
   "metadata": {},
   "source": [
    "\n",
    "---\n",
    "\n",
    "### **Exercise 2: Check if a Number is Even or Odd**\n",
    "**Problem:**  \n",
    "Write a program that takes a number as input and checks if it is even or odd. Print \"Even\" if the number is even, otherwise print \"Odd.\"\n",
    "\n",
    "**Example Input:**  \n",
    "`7`\n",
    "\n",
    "**Example Output:**  \n",
    "`Odd`\n"
   ]
  },
  {
   "cell_type": "markdown",
   "metadata": {},
   "source": [
    "\n",
    "**Solution:**\n",
    "```python\n",
    "num = int(input(\"Enter a number: \"))\n",
    "if num % 2 == 0:\n",
    "    print(\"Even\")\n",
    "else:\n",
    "    print(\"Odd\")\n",
    "```\n"
   ]
  },
  {
   "cell_type": "markdown",
   "metadata": {},
   "source": [
    "\n",
    "---\n",
    "\n",
    "### **Exercise 3: Find the Largest of Two Numbers**\n",
    "**Problem:**  \n",
    "Write a program that takes two numbers as input and prints the larger number.\n",
    "\n",
    "**Example Input:**  \n",
    "`10`, `20`\n",
    "\n",
    "**Example Output:**  \n",
    "`20 is larger.`\n"
   ]
  },
  {
   "cell_type": "markdown",
   "metadata": {},
   "source": [
    "\n",
    "**Solution:**\n",
    "```python\n",
    "num1 = float(input(\"Enter the first number: \"))\n",
    "num2 = float(input(\"Enter the second number: \"))\n",
    "if num1 > num2:\n",
    "    print(f\"{num1} is larger.\")\n",
    "else:\n",
    "    print(f\"{num2} is larger.\")\n",
    "```\n"
   ]
  },
  {
   "cell_type": "markdown",
   "metadata": {},
   "source": [
    "\n",
    "---\n",
    "\n",
    "### **Exercise 4: Check if a Number is Divisible by 5**\n",
    "**Problem:**  \n",
    "Write a program that takes a number as input and checks if it is divisible by 5. Print \"Divisible by 5\" if true, otherwise print \"Not divisible by 5.\"\n",
    "\n",
    "**Example Input:**  \n",
    "`25`\n",
    "\n",
    "**Example Output:**  \n",
    "`Divisible by 5`\n"
   ]
  },
  {
   "cell_type": "markdown",
   "metadata": {},
   "source": [
    "\n",
    "**Solution:**\n",
    "```python\n",
    "num = int(input(\"Enter a number: \"))\n",
    "if num % 5 == 0:\n",
    "    print(\"Divisible by 5\")\n",
    "else:\n",
    "    print(\"Not divisible by 5\")\n",
    "```\n"
   ]
  },
  {
   "cell_type": "markdown",
   "metadata": {},
   "source": [
    "\n",
    "---\n",
    "\n",
    "### **Exercise 5: Check if a Year is a Leap Year**\n",
    "**Problem:**  \n",
    "Write a program that takes a year as input and checks if it is a leap year. A leap year is divisible by 4 but not by 100, unless it is also divisible by 400. Print \"Leap Year\" or \"Not a Leap Year.\"\n",
    "\n",
    "**Example Input:**  \n",
    "`2024`\n",
    "\n",
    "**Example Output:**  \n",
    "`Leap Year`\n"
   ]
  },
  {
   "cell_type": "markdown",
   "metadata": {},
   "source": [
    "\n",
    "**Solution:**\n",
    "```python\n",
    "year = int(input(\"Enter a year: \"))\n",
    "if (year % 4 == 0 and year % 100 != 0) or (year % 400 == 0):\n",
    "    print(\"Leap Year\")\n",
    "else:\n",
    "    print(\"Not a Leap Year\")\n",
    "```\n"
   ]
  },
  {
   "cell_type": "markdown",
   "metadata": {},
   "source": [
    "\n",
    "---\n",
    "\n",
    "### **Exercise 6: Grade Calculator**\n",
    "**Problem:**  \n",
    "Write a program that takes a student's score as input and assigns a grade based on the following criteria:\n",
    "- A: 90-100\n",
    "- B: 80-89\n",
    "- C: 70-79\n",
    "- D: 60-69\n",
    "- F: Below 60\n",
    "\n",
    "**Example Input:**  \n",
    "`85`\n",
    "\n",
    "**Example Output:**  \n",
    "`Grade: B`\n"
   ]
  },
  {
   "cell_type": "markdown",
   "metadata": {},
   "source": [
    "\n",
    "**Solution:**\n",
    "```python\n",
    "score = float(input(\"Enter your score: \"))\n",
    "if score >= 90:\n",
    "    print(\"Grade: A\")\n",
    "elif score >= 80:\n",
    "    print(\"Grade: B\")\n",
    "elif score >= 70:\n",
    "    print(\"Grade: C\")\n",
    "elif score >= 60:\n",
    "    print(\"Grade: D\")\n",
    "else:\n",
    "    print(\"Grade: F\")\n",
    "```\n"
   ]
  },
  {
   "cell_type": "markdown",
   "metadata": {},
   "source": [
    "\n",
    "---\n",
    "\n",
    "### **Exercise 7: Check if a Character is a Vowel**\n",
    "**Problem:**  \n",
    "Write a program that takes a single character as input and checks if it is a vowel (a, e, i, o, u). Print \"Vowel\" if true, otherwise print \"Not a Vowel.\"\n",
    "\n",
    "**Example Input:**  \n",
    "`e`\n",
    "\n",
    "**Example Output:**  \n",
    "`Vowel`\n"
   ]
  },
  {
   "cell_type": "markdown",
   "metadata": {},
   "source": [
    "\n",
    "**Solution:**\n",
    "```python\n",
    "char = input(\"Enter a character: \").lower()\n",
    "if char in ['a', 'e', 'i', 'o', 'u']:\n",
    "    print(\"Vowel\")\n",
    "else:\n",
    "    print(\"Not a Vowel\")\n",
    "```\n"
   ]
  },
  {
   "cell_type": "markdown",
   "metadata": {},
   "source": [
    "\n",
    "---\n",
    "\n",
    "### **Exercise 8: Check if a Triangle is Valid**\n",
    "**Problem:**  \n",
    "Write a program that takes three sides of a triangle as input and checks if the triangle is valid. A triangle is valid if the sum of any two sides is greater than the third side.\n",
    "\n",
    "**Example Input:**  \n",
    "`3`, `4`, `5`\n",
    "\n",
    "**Example Output:**  \n",
    "`Valid Triangle`\n"
   ]
  },
  {
   "cell_type": "markdown",
   "metadata": {},
   "source": [
    "\n",
    "**Solution:**\n",
    "```python\n",
    "a = float(input(\"Enter side 1: \"))\n",
    "b = float(input(\"Enter side 2: \"))\n",
    "c = float(input(\"Enter side 3: \"))\n",
    "if (a + b > c) and (a + c > b) and (b + c > a):\n",
    "    print(\"Valid Triangle\")\n",
    "else:\n",
    "    print(\"Invalid Triangle\")\n",
    "```\n"
   ]
  },
  {
   "cell_type": "markdown",
   "metadata": {},
   "source": [
    "\n",
    "---\n",
    "\n",
    "### **Exercise 9: Check if a Number is Within a Range**\n",
    "**Problem:**  \n",
    "Write a program that takes a number as input and checks if it lies between 10 and 20 (inclusive). Print \"Within range\" if true, otherwise print \"Out of range.\"\n",
    "\n",
    "**Example Input:**  \n",
    "`15`\n",
    "\n",
    "**Example Output:**  \n",
    "`Within range`\n"
   ]
  },
  {
   "cell_type": "markdown",
   "metadata": {},
   "source": [
    "\n",
    "**Solution:**\n",
    "```python\n",
    "num = float(input(\"Enter a number: \"))\n",
    "if 10 <= num <= 20:\n",
    "    print(\"Within range\")\n",
    "else:\n",
    "    print(\"Out of range\")\n",
    "```\n"
   ]
  },
  {
   "cell_type": "markdown",
   "metadata": {},
   "source": [
    "\n",
    "---\n",
    "\n",
    "### **Exercise 10: Simple Calculator**\n",
    "**Problem:**  \n",
    "Write a program that takes two numbers and an operator (`+`, `-`, `*`, `/`) as input and performs the corresponding operation. Print the result.\n",
    "\n",
    "**Example Input:**  \n",
    "`5`, `3`, `*`\n",
    "\n",
    "**Example Output:**  \n",
    "`15`\n"
   ]
  },
  {
   "cell_type": "markdown",
   "metadata": {},
   "source": [
    "\n",
    "**Solution:**\n",
    "```python\n",
    "num1 = float(input(\"Enter the first number: \"))\n",
    "num2 = float(input(\"Enter the second number: \"))\n",
    "operator = input(\"Enter the operator (+, -, *, /): \")\n",
    "\n",
    "if operator == '+':\n",
    "    print(num1 + num2)\n",
    "elif operator == '-':\n",
    "    print(num1 - num2)\n",
    "elif operator == '*':\n",
    "    print(num1 * num2)\n",
    "elif operator == '/':\n",
    "    print(num1 / num2)\n",
    "else:\n",
    "    print(\"Invalid operator\")\n",
    "```\n",
    "\n",
    "---\n"
   ]
  }
 ],
 "metadata": {
  "kernelspec": {
   "display_name": "base",
   "language": "python",
   "name": "python3"
  },
  "language_info": {
   "name": "python",
   "version": "3.11.5"
  }
 },
 "nbformat": 4,
 "nbformat_minor": 2
}
