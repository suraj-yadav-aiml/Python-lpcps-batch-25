{
 "cells": [
  {
   "cell_type": "markdown",
   "metadata": {},
   "source": [
    "### **Exercise 1: Check if a Number is Positive**\n",
    "**Problem:**  \n",
    "Write a program that takes a number as input and checks if it is positive. If the number is positive, print \"The number is positive.\"\n",
    "\n",
    "**Example Input:**  \n",
    "`5`\n",
    "\n",
    "**Example Output:**  \n",
    "`The number is positive.`"
   ]
  },
  {
   "cell_type": "code",
   "execution_count": 2,
   "metadata": {},
   "outputs": [
    {
     "name": "stdout",
     "output_type": "stream",
     "text": [
      "The number is positive\n"
     ]
    }
   ],
   "source": [
    "number = int(input(\"Enter a number : \"))\n",
    "\n",
    "if number > 0:\n",
    "    print(\"The number is positive\")"
   ]
  },
  {
   "cell_type": "markdown",
   "metadata": {},
   "source": [
    "\n",
    "---\n",
    "\n",
    "### **Exercise 2: Check if a Number is Even or Odd**\n",
    "**Problem:**  \n",
    "Write a program that takes a number as input and checks if it is even or odd. Print \"Even\" if the number is even, otherwise print \"Odd.\"\n",
    "\n",
    "**Example Input:**  \n",
    "`7`\n",
    "\n",
    "**Example Output:**  \n",
    "`Odd`\n"
   ]
  },
  {
   "cell_type": "code",
   "execution_count": 4,
   "metadata": {},
   "outputs": [
    {
     "name": "stdout",
     "output_type": "stream",
     "text": [
      "Even\n"
     ]
    }
   ],
   "source": [
    "number = int(input(\"Enter a number : \"))\n",
    "\n",
    "if number % 2 == 0:\n",
    "    print(\"Even\")\n",
    "else:\n",
    "    print(\"Odd\")"
   ]
  },
  {
   "cell_type": "markdown",
   "metadata": {},
   "source": [
    "\n",
    "---\n",
    "\n",
    "### **Exercise 3: Find the Largest of Two Numbers**\n",
    "**Problem:**  \n",
    "Write a program that takes two numbers as input and prints the larger number.\n",
    "\n",
    "**Example Input:**  \n",
    "`10`, `20`\n",
    "\n",
    "**Example Output:**  \n",
    "`20 is larger.`\n"
   ]
  },
  {
   "cell_type": "code",
   "execution_count": 6,
   "metadata": {},
   "outputs": [
    {
     "name": "stdout",
     "output_type": "stream",
     "text": [
      "b is graeter\n"
     ]
    }
   ],
   "source": [
    "a = float(input(\"Enter the vale of a : \"))\n",
    "b = float(input(\"Enter the vale of b : \"))\n",
    "\n",
    "if a > b:\n",
    "    print(\"a is greater\")\n",
    "else:\n",
    "    print(\"b is graeter\")"
   ]
  },
  {
   "cell_type": "markdown",
   "metadata": {},
   "source": [
    "\n",
    "---\n",
    "\n",
    "### **Exercise 4: Check if a Number is Divisible by 5**\n",
    "**Problem:**  \n",
    "Write a program that takes a number as input and checks if it is divisible by 5. Print \"Divisible by 5\" if true, otherwise print \"Not divisible by 5.\"\n",
    "\n",
    "**Example Input:**  \n",
    "`25`\n",
    "\n",
    "**Example Output:**  \n",
    "`Divisible by 5`\n"
   ]
  },
  {
   "cell_type": "code",
   "execution_count": 8,
   "metadata": {},
   "outputs": [
    {
     "name": "stdout",
     "output_type": "stream",
     "text": [
      "Divisible by 5\n"
     ]
    }
   ],
   "source": [
    "a = float(input(\"Enter the vale of a : \"))\n",
    "\n",
    "if a % 5 == 0:\n",
    "    print(\"Divisible by 5\")\n",
    "else:\n",
    "    print(\"Not divisible by 5\")"
   ]
  },
  {
   "cell_type": "markdown",
   "metadata": {},
   "source": [
    "\n",
    "---\n",
    "\n",
    "### **Exercise 5: Check if a Year is a Leap Year**\n",
    "**Problem:**  \n",
    "Write a program that takes a year as input and checks if it is a leap year. A leap year is divisible by 4 but not by 100, unless it is also divisible by 400. Print \"Leap Year\" or \"Not a Leap Year.\"\n",
    "\n",
    "**Example Input:**  \n",
    "`2024`\n",
    "\n",
    "**Example Output:**  \n",
    "`Leap Year`\n"
   ]
  },
  {
   "cell_type": "code",
   "execution_count": 13,
   "metadata": {},
   "outputs": [
    {
     "name": "stdout",
     "output_type": "stream",
     "text": [
      "Not a Leap Year\n"
     ]
    }
   ],
   "source": [
    "year = int(input(\"Enter a year : \"))\n",
    "\n",
    "if (year % 4 == 0 and year % 100 != 0) or (year % 400 == 0):\n",
    "    print(\"Leap Year\")\n",
    "else:\n",
    "    print(\"Not a Leap Year\")"
   ]
  },
  {
   "cell_type": "markdown",
   "metadata": {},
   "source": [
    "\n",
    "---\n",
    "\n",
    "### **Exercise 6: Grade Calculator**\n",
    "**Problem:**  \n",
    "Write a program that takes a student's score as input and assigns a grade based on the following criteria:\n",
    "- A: 90-100\n",
    "- B: 80-89\n",
    "- C: 70-79\n",
    "- D: 60-69\n",
    "- F: Below 60\n",
    "\n",
    "**Example Input:**  \n",
    "`85`\n",
    "\n",
    "**Example Output:**  \n",
    "`Grade: B`\n"
   ]
  },
  {
   "cell_type": "code",
   "execution_count": 19,
   "metadata": {},
   "outputs": [
    {
     "name": "stdout",
     "output_type": "stream",
     "text": [
      "B\n"
     ]
    }
   ],
   "source": [
    "score = float(input(\"Enter the students score : \"))\n",
    "\n",
    "if 90 <= score <= 100:\n",
    "    print(\"A\")\n",
    "elif 80 <= score <=89:\n",
    "    print(\"B\")\n",
    "elif 70 <= score <= 79:\n",
    "    print(\"C\")\n",
    "elif 60 <= score <= 69:\n",
    "    print(\"D\")\n",
    "else:\n",
    "    print(\"F\")\n"
   ]
  },
  {
   "cell_type": "markdown",
   "metadata": {},
   "source": [
    "\n",
    "---\n",
    "\n",
    "### **Exercise 7: Check if a Character is a Vowel**\n",
    "**Problem:**  \n",
    "Write a program that takes a single character as input and checks if it is a vowel (a, e, i, o, u). Print \"Vowel\" if true, otherwise print \"Not a Vowel.\"\n",
    "\n",
    "**Example Input:**  \n",
    "`e`\n",
    "\n",
    "**Example Output:**  \n",
    "`Vowel`\n"
   ]
  },
  {
   "cell_type": "code",
   "execution_count": 23,
   "metadata": {},
   "outputs": [
    {
     "name": "stdout",
     "output_type": "stream",
     "text": [
      "Not Vowel\n"
     ]
    }
   ],
   "source": [
    "char = input(\"Enter a character : \").lower()\n",
    "\n",
    "if char == \"a\" or char == \"e\" or char == \"i\" or char == \"o\" or char == \"u\":\n",
    "    print(\"Vowel\")\n",
    "else:\n",
    "    print(\"Not Vowel\")"
   ]
  },
  {
   "cell_type": "code",
   "execution_count": 25,
   "metadata": {},
   "outputs": [
    {
     "name": "stdout",
     "output_type": "stream",
     "text": [
      "Not Vowel\n"
     ]
    }
   ],
   "source": [
    "char = input(\"Enter a character : \").lower()\n",
    "\n",
    "if char in \"aeiou\":\n",
    "    print(\"Vowel\")\n",
    "else:\n",
    "    print(\"Not Vowel\")"
   ]
  },
  {
   "cell_type": "code",
   "execution_count": 27,
   "metadata": {},
   "outputs": [
    {
     "name": "stdout",
     "output_type": "stream",
     "text": [
      "Not Vowel\n"
     ]
    }
   ],
   "source": [
    "char = input(\"Enter a character : \").lower()\n",
    "\n",
    "if char in ['a','e','i','o','u']:\n",
    "    print(\"Vowel\")\n",
    "else:\n",
    "    print(\"Not Vowel\")"
   ]
  },
  {
   "cell_type": "markdown",
   "metadata": {},
   "source": [
    "\n",
    "---\n",
    "\n",
    "### **Exercise 8: Check if a Triangle is Valid**\n",
    "**Problem:**  \n",
    "Write a program that takes three sides of a triangle as input and checks if the triangle is valid. A triangle is valid if the sum of any two sides is greater than the third side.\n",
    "\n",
    "**Example Input:**  \n",
    "`3`, `4`, `5`\n",
    "\n",
    "**Example Output:**  \n",
    "`Valid Triangle`\n"
   ]
  },
  {
   "cell_type": "code",
   "execution_count": 29,
   "metadata": {},
   "outputs": [
    {
     "name": "stdout",
     "output_type": "stream",
     "text": [
      "Invalid\n"
     ]
    }
   ],
   "source": [
    "a = float(input('Enter the first side : '))\n",
    "b = float(input('Enter the second side : '))\n",
    "c = float(input('Enter the third side : '))\n",
    "\n",
    "if (a+b>c) and (b+c>a) and (a+c>b):\n",
    "    print(\"Valid\")\n",
    "else:\n",
    "    print(\"Invalid\")"
   ]
  },
  {
   "cell_type": "markdown",
   "metadata": {},
   "source": [
    "\n",
    "---\n",
    "\n",
    "### **Exercise 9: Check if a Number is Within a Range**\n",
    "**Problem:**  \n",
    "Write a program that takes a number as input and checks if it lies between 10 and 20 (inclusive). Print \"Within range\" if true, otherwise print \"Out of range.\"\n",
    "\n",
    "**Example Input:**  \n",
    "`15`\n",
    "\n",
    "**Example Output:**  \n",
    "`Within range`\n"
   ]
  },
  {
   "cell_type": "code",
   "execution_count": 32,
   "metadata": {},
   "outputs": [
    {
     "name": "stdout",
     "output_type": "stream",
     "text": [
      "Withing range\n"
     ]
    }
   ],
   "source": [
    "number  = float(input(\"Enter a number : \"))\n",
    "\n",
    "if 1 <= number <= 50:\n",
    "    print(\"Withing range\")\n",
    "else:\n",
    "    print('Out of range')"
   ]
  },
  {
   "cell_type": "markdown",
   "metadata": {},
   "source": [
    "\n",
    "---\n",
    "\n",
    "### **Exercise 10: Simple Calculator**\n",
    "**Problem:**  \n",
    "Write a program that takes two numbers and an operator (`+`, `-`, `*`, `/`) as input and performs the corresponding operation. Print the result.\n",
    "\n",
    "**Example Input:**  \n",
    "`5`, `3`, `*`\n",
    "\n",
    "**Example Output:**  \n",
    "`15`\n"
   ]
  },
  {
   "cell_type": "code",
   "execution_count": 37,
   "metadata": {},
   "outputs": [
    {
     "name": "stdout",
     "output_type": "stream",
     "text": [
      "100.0 / 5.0 = 20.0\n"
     ]
    }
   ],
   "source": [
    "a = float(input(\"Enter the first number : \"))\n",
    "b = float(input(\"Enter the second number : \"))\n",
    "operator = input(\"Enter the opeartor (+,-,*,/) : \")\n",
    "\n",
    "if operator == \"+\":\n",
    "    print(f\"{a} + {b} = {a+b}\")\n",
    "elif operator == \"-\":\n",
    "    print(f\"{a} - {b} = {a-b}\")\n",
    "elif operator == \"*\":\n",
    "    print(f\"{a} * {b} = {a*b}\")\n",
    "elif operator == \"/\":\n",
    "    print(f\"{a} / {b} = {a/b}\")\n",
    "else: \n",
    "    print(\"Invalid Opeartor\")"
   ]
  }
 ],
 "metadata": {
  "kernelspec": {
   "display_name": "base",
   "language": "python",
   "name": "python3"
  },
  "language_info": {
   "codemirror_mode": {
    "name": "ipython",
    "version": 3
   },
   "file_extension": ".py",
   "mimetype": "text/x-python",
   "name": "python",
   "nbconvert_exporter": "python",
   "pygments_lexer": "ipython3",
   "version": "3.11.5"
  }
 },
 "nbformat": 4,
 "nbformat_minor": 2
}
